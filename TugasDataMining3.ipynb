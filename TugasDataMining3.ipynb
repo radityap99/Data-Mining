{
  "nbformat": 4,
  "nbformat_minor": 0,
  "metadata": {
    "colab": {
      "name": "TugasDataMining3.ipynb",
      "provenance": [],
      "collapsed_sections": [],
      "authorship_tag": "ABX9TyPUyCVKOJ9SvoKy7SavrM0I"
    },
    "kernelspec": {
      "name": "python3",
      "display_name": "Python 3"
    }
  },
  "cells": [
    {
      "cell_type": "code",
      "metadata": {
        "id": "igTZD7o0wTGt"
      },
      "source": [
        "import numpy as np\r\n",
        "import matplotlib.pyplot as plt\r\n",
        "import pandas as pd"
      ],
      "execution_count": null,
      "outputs": []
    },
    {
      "cell_type": "code",
      "metadata": {
        "id": "A1HWYwvbwe6I"
      },
      "source": [
        "dataset = pd.read_csv('Data.csv')\r\n",
        "x = dataset.iloc[:, :-1].values\r\n",
        "y = dataset.iloc[:, -1].values"
      ],
      "execution_count": null,
      "outputs": []
    },
    {
      "cell_type": "code",
      "metadata": {
        "colab": {
          "base_uri": "https://localhost:8080/"
        },
        "id": "eaLs2RqGwmoV",
        "outputId": "1373eae8-2906-4695-f8a4-afabe7514ff8"
      },
      "source": [
        "print(x)"
      ],
      "execution_count": null,
      "outputs": [
        {
          "output_type": "stream",
          "text": [
            "[['Pizza' 2.0 7200.0]\n",
            " ['Burger' 3.0 4800.0]\n",
            " ['Kebab' 4.0 5400.0]\n",
            " ['Pizza' 6.0 6100.0]\n",
            " ['Burger' 5.0 nan]\n",
            " ['Kebab' 2.0 5800.0]\n",
            " ['Pizza' nan 5200.0]\n",
            " ['Burger' 8.0 7900.0]\n",
            " ['Kebab' 6.0 8300.0]\n",
            " ['Pizza' 5.0 6700.0]]\n"
          ],
          "name": "stdout"
        }
      ]
    },
    {
      "cell_type": "code",
      "metadata": {
        "colab": {
          "base_uri": "https://localhost:8080/"
        },
        "id": "RVkLkIDBwuoi",
        "outputId": "ca5c91f3-8aaf-4ab7-ccdb-a0226c0609cc"
      },
      "source": [
        "print(y)"
      ],
      "execution_count": null,
      "outputs": [
        {
          "output_type": "stream",
          "text": [
            "['No' 'Yes' 'No' 'No' 'Yes' 'Yes' 'No' 'Yes' 'No' 'Yes']\n"
          ],
          "name": "stdout"
        }
      ]
    },
    {
      "cell_type": "code",
      "metadata": {
        "id": "Ap-CYuclwzYT"
      },
      "source": [
        "from sklearn.impute import SimpleImputer\r\n",
        "imputer = SimpleImputer(missing_values=np.nan, strategy='mean')\r\n",
        "imputer.fit(x[:, 1:3])\r\n",
        "x[:, 1:3] = imputer.transform(x[:, 1:3])"
      ],
      "execution_count": null,
      "outputs": []
    },
    {
      "cell_type": "code",
      "metadata": {
        "colab": {
          "base_uri": "https://localhost:8080/"
        },
        "id": "u44Z37Udw34P",
        "outputId": "7ef7e9e7-ab26-4fb4-ce23-cf2801a7cf65"
      },
      "source": [
        "print(x)"
      ],
      "execution_count": null,
      "outputs": [
        {
          "output_type": "stream",
          "text": [
            "[['Pizza' 2.0 7200.0]\n",
            " ['Burger' 3.0 4800.0]\n",
            " ['Kebab' 4.0 5400.0]\n",
            " ['Pizza' 6.0 6100.0]\n",
            " ['Burger' 5.0 6377.777777777777]\n",
            " ['Kebab' 2.0 5800.0]\n",
            " ['Pizza' 4.555555555555555 5200.0]\n",
            " ['Burger' 8.0 7900.0]\n",
            " ['Kebab' 6.0 8300.0]\n",
            " ['Pizza' 5.0 6700.0]]\n"
          ],
          "name": "stdout"
        }
      ]
    },
    {
      "cell_type": "code",
      "metadata": {
        "id": "fTZ5bRFBw_Z4"
      },
      "source": [
        "from sklearn.compose import ColumnTransformer\r\n",
        "from sklearn.preprocessing import OneHotEncoder\r\n",
        "ct = ColumnTransformer(transformers=[('encoder',OneHotEncoder(),[0])], remainder='passthrough')\r\n",
        "x = np.array(ct.fit_transform(x))"
      ],
      "execution_count": null,
      "outputs": []
    },
    {
      "cell_type": "code",
      "metadata": {
        "colab": {
          "base_uri": "https://localhost:8080/"
        },
        "id": "8PjEpNYExB2L",
        "outputId": "99b3b81a-3162-4cd7-94cf-10dd3fde6def"
      },
      "source": [
        "print(x)"
      ],
      "execution_count": null,
      "outputs": [
        {
          "output_type": "stream",
          "text": [
            "[[0.0 0.0 1.0 2.0 7200.0]\n",
            " [1.0 0.0 0.0 3.0 4800.0]\n",
            " [0.0 1.0 0.0 4.0 5400.0]\n",
            " [0.0 0.0 1.0 6.0 6100.0]\n",
            " [1.0 0.0 0.0 5.0 6377.777777777777]\n",
            " [0.0 1.0 0.0 2.0 5800.0]\n",
            " [0.0 0.0 1.0 4.555555555555555 5200.0]\n",
            " [1.0 0.0 0.0 8.0 7900.0]\n",
            " [0.0 1.0 0.0 6.0 8300.0]\n",
            " [0.0 0.0 1.0 5.0 6700.0]]\n"
          ],
          "name": "stdout"
        }
      ]
    },
    {
      "cell_type": "code",
      "metadata": {
        "id": "3waDni2exGA5"
      },
      "source": [
        "from sklearn.preprocessing import LabelEncoder\r\n",
        "le = LabelEncoder()\r\n",
        "y = le.fit_transform(y)"
      ],
      "execution_count": null,
      "outputs": []
    },
    {
      "cell_type": "code",
      "metadata": {
        "colab": {
          "base_uri": "https://localhost:8080/"
        },
        "id": "MlT3iMVIxJDy",
        "outputId": "0299b9bc-fc50-46b5-f64a-79922d0d63ba"
      },
      "source": [
        "print(y)"
      ],
      "execution_count": null,
      "outputs": [
        {
          "output_type": "stream",
          "text": [
            "[0 1 0 0 1 1 0 1 0 1]\n"
          ],
          "name": "stdout"
        }
      ]
    },
    {
      "cell_type": "code",
      "metadata": {
        "id": "ay16OWMxxOrd"
      },
      "source": [
        "from sklearn.model_selection import train_test_split\r\n",
        "x_train, x_test, y_train, y_test = train_test_split(x, y, test_size = 0.2, random_state = 1)"
      ],
      "execution_count": null,
      "outputs": []
    },
    {
      "cell_type": "code",
      "metadata": {
        "colab": {
          "base_uri": "https://localhost:8080/"
        },
        "id": "2ePd3t1hxSvr",
        "outputId": "b2225ac0-4c38-40a9-f87c-da05f18f80fc"
      },
      "source": [
        "print(x_train)"
      ],
      "execution_count": null,
      "outputs": [
        {
          "output_type": "stream",
          "text": [
            "[[0.0 0.0 1.0 4.555555555555555 5200.0]\n",
            " [1.0 0.0 0.0 5.0 6377.777777777777]\n",
            " [0.0 0.0 1.0 2.0 7200.0]\n",
            " [0.0 0.0 1.0 6.0 6100.0]\n",
            " [1.0 0.0 0.0 3.0 4800.0]\n",
            " [1.0 0.0 0.0 8.0 7900.0]\n",
            " [0.0 1.0 0.0 6.0 8300.0]\n",
            " [0.0 1.0 0.0 2.0 5800.0]]\n"
          ],
          "name": "stdout"
        }
      ]
    },
    {
      "cell_type": "code",
      "metadata": {
        "colab": {
          "base_uri": "https://localhost:8080/"
        },
        "id": "VdgssWOUxS71",
        "outputId": "9ba37ce9-0cab-4da8-eeb6-400aadf678e5"
      },
      "source": [
        "print(x_test)"
      ],
      "execution_count": null,
      "outputs": [
        {
          "output_type": "stream",
          "text": [
            "[[0.0 1.0 0.0 4.0 5400.0]\n",
            " [0.0 0.0 1.0 5.0 6700.0]]\n"
          ],
          "name": "stdout"
        }
      ]
    },
    {
      "cell_type": "code",
      "metadata": {
        "colab": {
          "base_uri": "https://localhost:8080/"
        },
        "id": "_zh9vPeFxagA",
        "outputId": "d0fa9ec6-7948-47f6-861b-f28982590893"
      },
      "source": [
        "print(y_train)"
      ],
      "execution_count": null,
      "outputs": [
        {
          "output_type": "stream",
          "text": [
            "[0 1 0 0 1 1 0 1]\n"
          ],
          "name": "stdout"
        }
      ]
    },
    {
      "cell_type": "code",
      "metadata": {
        "colab": {
          "base_uri": "https://localhost:8080/"
        },
        "id": "ACkuAJutxarv",
        "outputId": "b4adf77d-fe74-4a60-c1d7-a0e8eca917b8"
      },
      "source": [
        "print(y_test)"
      ],
      "execution_count": null,
      "outputs": [
        {
          "output_type": "stream",
          "text": [
            "[0 1]\n"
          ],
          "name": "stdout"
        }
      ]
    },
    {
      "cell_type": "code",
      "metadata": {
        "id": "i5aK0McPxa3-"
      },
      "source": [
        "from sklearn.preprocessing import StandardScaler\r\n",
        "sc = StandardScaler()\r\n",
        "x_train[:, 3:] = sc.fit_transform(x_train[:, 3:])\r\n",
        "x_test[:, 3:] = sc.transform(x_test[:, 3:])"
      ],
      "execution_count": null,
      "outputs": []
    },
    {
      "cell_type": "code",
      "metadata": {
        "colab": {
          "base_uri": "https://localhost:8080/"
        },
        "id": "lj5rUWvbxlUT",
        "outputId": "aeae28ae-2ce5-4a66-ca93-2bbe5a2fd513"
      },
      "source": [
        "print(x_train)"
      ],
      "execution_count": null,
      "outputs": [
        {
          "output_type": "stream",
          "text": [
            "[[0.0 0.0 1.0 -0.006975631342826131 -1.078125940841243]\n",
            " [1.0 0.0 0.0 0.2162445716276038 -0.07013167641635495]\n",
            " [0.0 0.0 1.0 -1.2904917984227975 0.6335624327104542]\n",
            " [0.0 0.0 1.0 0.7184900283110709 -0.3078661727429792]\n",
            " [1.0 0.0 0.0 -0.7882463417393304 -1.4204636155515824]\n",
            " [1.0 0.0 0.0 1.722980941678005 1.2326533634535481]\n",
            " [0.0 1.0 0.0 0.7184900283110709 1.5749910381638876]\n",
            " [0.0 1.0 0.0 -1.2904917984227975 -0.5646194287757338]]\n"
          ],
          "name": "stdout"
        }
      ]
    },
    {
      "cell_type": "code",
      "metadata": {
        "colab": {
          "base_uri": "https://localhost:8080/"
        },
        "id": "8ZWOKNNlxlgR",
        "outputId": "1106ecf1-bc3b-4c9c-9efe-e9db3068d329"
      },
      "source": [
        "print(x_test)"
      ],
      "execution_count": null,
      "outputs": [
        {
          "output_type": "stream",
          "text": [
            "[[0.0 1.0 0.0 -0.2860008850558633 -0.9069571034860732]\n",
            " [0.0 0.0 1.0 0.2162445716276038 0.20564033932252995]]\n"
          ],
          "name": "stdout"
        }
      ]
    }
  ]
}